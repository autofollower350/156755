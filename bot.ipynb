{
  "nbformat": 4,
  "nbformat_minor": 0,
  "metadata": {
    "colab": {
      "provenance": [],
      "authorship_tag": "ABX9TyOUgQ1TlPdz15E9XTzJkW5z",
      "include_colab_link": true
    },
    "kernelspec": {
      "name": "python3",
      "display_name": "Python 3"
    },
    "language_info": {
      "name": "python"
    }
  },
  "cells": [
    {
      "cell_type": "markdown",
      "metadata": {
        "id": "view-in-github",
        "colab_type": "text"
      },
      "source": [
        "<a href=\"https://colab.research.google.com/github/autofollower350/156755/blob/main/bot.ipynb\" target=\"_parent\"><img src=\"https://colab.research.google.com/assets/colab-badge.svg\" alt=\"Open In Colab\"/></a>"
      ]
    },
    {
      "cell_type": "code",
      "execution_count": null,
      "metadata": {
        "id": "VqoaqKrFgf3T"
      },
      "outputs": [],
      "source": [
        "# Clone GitHub Repo\n",
        "!git clone https://github.com/autofollower350/Llkkl.git\n",
        "%cd Llkkl\n",
        "\n",
        "# Install Dependencies\n",
        "!pip install -r requirements.txt\n",
        "\n",
        "# Run the Bot\n",
        "!python bot.py"
      ]
    }
  ]
}